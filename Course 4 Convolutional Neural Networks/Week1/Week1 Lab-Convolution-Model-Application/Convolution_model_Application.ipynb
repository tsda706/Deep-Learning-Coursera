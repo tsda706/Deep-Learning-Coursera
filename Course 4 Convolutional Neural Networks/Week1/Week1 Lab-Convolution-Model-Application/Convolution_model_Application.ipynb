{
 "cells": [
  {
   "cell_type": "markdown",
   "metadata": {},
   "source": [
    "# Convolutional Neural Networks: Application\n",
    "\n",
    "Welcome to Course 4's second assignment! In this notebook, you will:\n",
    "\n",
    "- Create a mood classifer using the TF Keras Sequential API\n",
    "- Build a ConvNet to identify sign language digits using the TF Keras Functional API\n",
    "\n",
    "**After this assignment you will be able to:**\n",
    "\n",
    "- Build and train a ConvNet in TensorFlow for a __binary__ classification problem\n",
    "- Build and train a ConvNet in TensorFlow for a __multiclass__ classification problem\n",
    "- Explain different use cases for the Sequential and Functional APIs\n",
    "\n",
    "To complete this assignment, you should already be familiar with TensorFlow. If you are not, please refer back to the **TensorFlow Tutorial** of the third week of Course 2 (\"**Improving deep neural networks**\").\n",
    "\n",
    "## Important Note on Submission to the AutoGrader\n",
    "\n",
    "Before submitting your assignment to the AutoGrader, please make sure you are not doing the following:\n",
    "\n",
    "1. You have not added any _extra_ `print` statement(s) in the assignment.\n",
    "2. You have not added any _extra_ code cell(s) in the assignment.\n",
    "3. You have not changed any of the function parameters.\n",
    "4. You are not using any global variables inside your graded exercises. Unless specifically instructed to do so, please refrain from it and use the local variables instead.\n",
    "5. You are not changing the assignment code where it is not required, like creating _extra_ variables.\n",
    "\n",
    "If you do any of the following, you will get something like, `Grader Error: Grader feedback not found` (or similarly unexpected) error upon submitting your assignment. Before asking for help/debugging the errors in your assignment, check for these first. If this is the case, and you don't remember the changes you have made, you can get a fresh copy of the assignment by following these [instructions](https://www.coursera.org/learn/convolutional-neural-networks/supplement/DS4yP/h-ow-to-refresh-your-workspace)."
   ]
  },
  {
   "cell_type": "markdown",
   "metadata": {},
   "source": [
    "## Table of Contents\n",
    "\n",
    "- [1 - Packages](#1)\n",
    "    - [1.1 - Load the Data and Split the Data into Train/Test Sets](#1-1)\n",
    "- [2 - Layers in TF Keras](#2)\n",
    "- [3 - The Sequential API](#3)\n",
    "    - [3.1 - Create the Sequential Model](#3-1)\n",
    "        - [Exercise 1 - happyModel](#ex-1)\n",
    "    - [3.2 - Train and Evaluate the Model](#3-2)\n",
    "- [4 - The Functional API](#4)\n",
    "    - [4.1 - Load the SIGNS Dataset](#4-1)\n",
    "    - [4.2 - Split the Data into Train/Test Sets](#4-2)\n",
    "    - [4.3 - Forward Propagation](#4-3)\n",
    "        - [Exercise 2 - convolutional_model](#ex-2)\n",
    "    - [4.4 - Train the Model](#4-4)\n",
    "- [5 - History Object](#5)\n",
    "- [6 - Bibliography](#6)"
   ]
  },
  {
   "cell_type": "markdown",
   "metadata": {},
   "source": [
    "<a name='1'></a>\n",
    "## 1 - Packages\n",
    "\n",
    "As usual, begin by loading in the packages."
   ]
  },
  {
   "cell_type": "code",
   "execution_count": 1,
   "metadata": {},
   "outputs": [],
   "source": [
    "import math\n",
    "import numpy as np\n",
    "import h5py\n",
    "import matplotlib.pyplot as plt\n",
    "from matplotlib.pyplot import imread\n",
    "import scipy\n",
    "from PIL import Image\n",
    "import pandas as pd\n",
    "import tensorflow as tf\n",
    "import tensorflow.keras.layers as tfl\n",
    "from tensorflow.python.framework import ops\n",
    "from cnn_utils import *\n",
    "from test_utils import summary, comparator\n",
    "\n",
    "%matplotlib inline\n",
    "np.random.seed(1)"
   ]
  },
  {
   "cell_type": "markdown",
   "metadata": {},
   "source": [
    "<a name='1-1'></a>\n",
    "### 1.1 - Load the Data and Split the Data into Train/Test Sets\n",
    "\n",
    "You'll be using the Happy House dataset for this part of the assignment, which contains images of peoples' faces. Your task will be to build a ConvNet that determines whether the people in the images are smiling or not -- because they only get to enter the house if they're smiling!  "
   ]
  },
  {
   "cell_type": "code",
   "execution_count": 2,
   "metadata": {},
   "outputs": [
    {
     "name": "stdout",
     "output_type": "stream",
     "text": [
      "number of training examples = 600\n",
      "number of test examples = 150\n",
      "X_train shape: (600, 64, 64, 3)\n",
      "Y_train shape: (600, 1)\n",
      "X_test shape: (150, 64, 64, 3)\n",
      "Y_test shape: (150, 1)\n"
     ]
    }
   ],
   "source": [
    "X_train_orig, Y_train_orig, X_test_orig, Y_test_orig, classes = load_happy_dataset()\n",
    "\n",
    "# Normalize image vectors\n",
    "X_train = X_train_orig/255.\n",
    "X_test = X_test_orig/255.\n",
    "\n",
    "# Reshape\n",
    "Y_train = Y_train_orig.T\n",
    "Y_test = Y_test_orig.T\n",
    "\n",
    "print (\"number of training examples = \" + str(X_train.shape[0]))\n",
    "print (\"number of test examples = \" + str(X_test.shape[0]))\n",
    "print (\"X_train shape: \" + str(X_train.shape))\n",
    "print (\"Y_train shape: \" + str(Y_train.shape))\n",
    "print (\"X_test shape: \" + str(X_test.shape))\n",
    "print (\"Y_test shape: \" + str(Y_test.shape))"
   ]
  },
  {
   "cell_type": "markdown",
   "metadata": {},
   "source": [
    "You can display the images contained in the dataset. Images are **64x64** pixels in RGB format (3 channels)."
   ]
  },
  {
   "cell_type": "code",
   "execution_count": 3,
   "metadata": {},
   "outputs": [
    {
     "data": {
      "image/png": "[encoded data removed]",
      "text/plain": [
       "<Figure size 432x288 with 1 Axes>"
      ]
     },
     "metadata": {
      "needs_background": "light"
     },
     "output_type": "display_data"
    }
   ],
   "source": [
    "index = 124\n",
    "plt.imshow(X_train_orig[index]) #display sample training image\n",
    "plt.show()"
   ]
  },
  {
   "cell_type": "markdown",
   "metadata": {},
   "source": [
    "<a name='2'></a>\n",
    "## 2 - Layers in TF Keras \n",
    "\n",
    "In the previous assignment, you created layers manually in numpy. In TF Keras, you don't have to write code directly to create layers. Rather, TF Keras has pre-defined layers you can use. \n",
    "\n",
    "When you create a layer in TF Keras, you are creating a function that takes some input and transforms it into an output you can reuse later. Nice and easy! "
   ]
  },
  {
   "cell_type": "markdown",
   "metadata": {},
   "source": [
    "<a name='3'></a>\n",
    "## 3 - The Sequential API\n",
    "\n",
    "In the previous assignment, you built helper functions using `numpy` to understand the mechanics behind convolutional neural networks. Most practical applications of deep learning today are built using programming frameworks, which have many built-in functions you can simply call. Keras is a high-level abstraction built on top of TensorFlow, which allows for even more simplified and optimized model creation and training. \n",
    "\n",
    "For the first part of this assignment, you'll create a model using TF Keras' Sequential API, which allows you to build layer by layer, and is ideal for building models where each layer has **exactly one** input tensor and **one** output tensor. \n",
    "\n",
    "As you'll see, using the Sequential API is simple and straightforward, but is only appropriate for simpler, more straightforward tasks. Later in this notebook you'll spend some time building with a more flexible, powerful alternative: the Functional API. \n",
    " "
   ]
  },
  {
   "cell_type": "markdown",
   "metadata": {},
   "source": [
    "<a name='3-1'></a>\n",
    "### 3.1 - Create the Sequential Model\n",
    "\n",
    "As mentioned earlier, the TensorFlow Keras Sequential API can be used to build simple models with layer operations that proceed in a sequential order. \n",
    "\n",
    "You can also add layers incrementally to a Sequential model with the `.add()` method, or remove them using the `.pop()` method, much like you would in a regular Python list.\n",
    "\n",
    "Actually, you can think of a Sequential model as behaving like a list of layers. Like Python lists, Sequential layers are ordered, and the order in which they are specified matters.  If your model is non-linear or contains layers with multiple inputs or outputs, a Sequential model wouldn't be the right choice!\n",
    "\n",
    "For any layer construction in Keras, you'll need to specify the input shape in advance. This is because in Keras, the shape of the weights is based on the shape of the inputs. The weights are only created when the model first sees some input data. Sequential models can be created by passing a list of layers to the Sequential constructor, like you will do in the next assignment.\n",
    "\n",
    "<a name='ex-1'></a>\n",
    "### Exercise 1 - happyModel\n",
    "\n",
    "Implement the `happyModel` function below to build the following model: `ZEROPAD2D -> CONV2D -> BATCHNORM -> RELU -> MAXPOOL -> FLATTEN -> DENSE`. Take help from [tf.keras.layers](https://www.tensorflow.org/api_docs/python/tf/keras/layers) \n",
    "\n",
    "Also, plug in the following parameters for all the steps:\n",
    "\n",
    " - [ZeroPadding2D](https://www.tensorflow.org/api_docs/python/tf/keras/layers/ZeroPadding2D): padding 3, input shape 64 x 64 x 3\n",
    " - [Conv2D](https://www.tensorflow.org/api_docs/python/tf/keras/layers/Conv2D): Use 32 7x7 filters, stride 1\n",
    " - [BatchNormalization](https://www.tensorflow.org/api_docs/python/tf/keras/layers/BatchNormalization): for axis 3\n",
    " - [ReLU](https://www.tensorflow.org/api_docs/python/tf/keras/layers/ReLU)\n",
    " - [MaxPool2D](https://www.tensorflow.org/api_docs/python/tf/keras/layers/MaxPool2D): Using default parameters\n",
    " - [Flatten](https://www.tensorflow.org/api_docs/python/tf/keras/layers/Flatten) the previous output.\n",
    " - Fully-connected ([Dense](https://www.tensorflow.org/api_docs/python/tf/keras/layers/Dense)) layer: Apply a fully connected layer with 1 neuron and a sigmoid activation. \n",
    " \n",
    " \n",
    " **Hint:**\n",
    " \n",
    " Use **tfl** as shorthand for **tensorflow.keras.layers**"
   ]
  },
  {
   "cell_type": "code",
   "execution_count": 4,
   "metadata": {
    "deletable": false,
    "nbgrader": {
     "cell_type": "code",
     "checksum": "95d28b191f257bdd5b70c7b8952559d5",
     "grade": false,
     "grade_id": "cell-0e56d3fc28b69aec",
     "locked": false,
     "schema_version": 3,
     "solution": true,
     "task": false
    }
   },
   "outputs": [],
   "source": [
    "# GRADED FUNCTION: happyModel\n",
    "\n",
    "def happyModel():\n",
    "    \"\"\"\n",
    "    Implements the forward propagation for the binary classification model:\n",
    "    ZEROPAD2D -> CONV2D -> BATCHNORM -> RELU -> MAXPOOL -> FLATTEN -> DENSE\n",
    "    \n",
    "    Note that for simplicity and grading purposes, you'll hard-code all the values\n",
    "    such as the stride and kernel (filter) sizes. \n",
    "    Normally, functions should take these values as function parameters.\n",
    "    \n",
    "    Arguments:\n",
    "    None\n",
    "\n",
    "    Returns:\n",
    "    model -- TF Keras model (object containing the information for the entire training process) \n",
    "    \"\"\"\n",
    "    model = tf.keras.Sequential([\n",
    "        \n",
    "            # YOUR CODE STARTS HERE\n",
    "            \n",
    "            ## ZeroPadding2D with padding 3, input shape of 64 x 64 x 3\n",
    "            tfl.ZeroPadding2D(padding=(3, 3), input_shape=(64, 64, 3)),\n",
    "        \n",
    "            ## Conv2D with 32 7x7 filters and stride of 1\n",
    "            tfl.Conv2D(32, (7,7)),\n",
    "        \n",
    "            ## BatchNormalization for axis 3\n",
    "            tfl.BatchNormalization(axis=-1),\n",
    "        \n",
    "            ## ReLU\n",
    "            tfl.ReLU(),\n",
    "        \n",
    "            ## Max Pooling 2D with default parameters\n",
    "            tfl.MaxPool2D(),\n",
    "        \n",
    "            ## Flatten layer\n",
    "            tfl.Flatten(),\n",
    "        \n",
    "            ## Dense layer with 1 unit for output & 'sigmoid' activation\n",
    "            tfl.Dense(1, activation='sigmoid')\n",
    "        \n",
    "            \n",
    "            # YOUR CODE ENDS HERE\n",
    "        ])\n",
    "    \n",
    "    return model"
   ]
  },
  {
   "cell_type": "code",
   "execution_count": 5,
   "metadata": {
    "deletable": false,
    "editable": false,
    "nbgrader": {
     "cell_type": "code",
     "checksum": "8d3575c950e2e78149be2d05d671c80d",
     "grade": true,
     "grade_id": "cell-e3e1046e5c33d775",
     "locked": true,
     "points": 10,
     "schema_version": 3,
     "solution": false,
     "task": false
    }
   },
   "outputs": [
    {
     "name": "stdout",
     "output_type": "stream",
     "text": [
      "['ZeroPadding2D', (None, 70, 70, 3), 0, ((3, 3), (3, 3))]\n",
      "['Conv2D', (None, 64, 64, 32), 4736, 'valid', 'linear', 'GlorotUniform']\n",
      "['BatchNormalization', (None, 64, 64, 32), 128]\n",
      "['ReLU', (None, 64, 64, 32), 0]\n",
      "['MaxPooling2D', (None, 32, 32, 32), 0, (2, 2), (2, 2), 'valid']\n",
      "['Flatten', (None, 32768), 0]\n",
      "['Dense', (None, 1), 32769, 'sigmoid']\n",
      "\u001b[32mAll tests passed!\u001b[0m\n"
     ]
    }
   ],
   "source": [
    "happy_model = happyModel()\n",
    "# Print a summary for each layer\n",
    "for layer in summary(happy_model):\n",
    "    print(layer)\n",
    "    \n",
    "output = [['ZeroPadding2D', (None, 70, 70, 3), 0, ((3, 3), (3, 3))],\n",
    "            ['Conv2D', (None, 64, 64, 32), 4736, 'valid', 'linear', 'GlorotUniform'],\n",
    "            ['BatchNormalization', (None, 64, 64, 32), 128],\n",
    "            ['ReLU', (None, 64, 64, 32), 0],\n",
    "            ['MaxPooling2D', (None, 32, 32, 32), 0, (2, 2), (2, 2), 'valid'],\n",
    "            ['Flatten', (None, 32768), 0],\n",
    "            ['Dense', (None, 1), 32769, 'sigmoid']]\n",
    "    \n",
    "comparator(summary(happy_model), output)"
   ]
  },
  {
   "cell_type": "markdown",
   "metadata": {},
   "source": [
    "#### Expected Output:\n",
    "\n",
    "```\n",
    "['ZeroPadding2D', (None, 70, 70, 3), 0, ((3, 3), (3, 3))]\n",
    "['Conv2D', (None, 64, 64, 32), 4736, 'valid', 'linear', 'GlorotUniform']\n",
    "['BatchNormalization', (None, 64, 64, 32), 128]\n",
    "['ReLU', (None, 64, 64, 32), 0]\n",
    "['MaxPooling2D', (None, 32, 32, 32), 0, (2, 2), (2, 2), 'valid']\n",
    "['Flatten', (None, 32768), 0]\n",
    "['Dense', (None, 1), 32769, 'sigmoid']\n",
    "All tests passed!\n",
    "```"
   ]
  },
  {
   "cell_type": "markdown",
   "metadata": {},
   "source": [
    "Now that your model is created, you can compile it for training with an optimizer and loss of your choice. When the string `accuracy` is specified as a metric, the type of accuracy used will be automatically converted based on the loss function used. This is one of the many optimizations built into TensorFlow that make your life easier! If you'd like to read more on how the compiler operates, check the docs [here](https://www.tensorflow.org/api_docs/python/tf/keras/Model#compile)."
   ]
  },
  {
   "cell_type": "code",
   "execution_count": 6,
   "metadata": {},
   "outputs": [],
   "source": [
    "happy_model.compile(optimizer='adam',\n",
    "                   loss='binary_crossentropy',\n",
    "                   metrics=['accuracy'])"
   ]
  },
  {
   "cell_type": "markdown",
   "metadata": {},
   "source": [
    "It's time to check your model's parameters with the `.summary()` method. This will display the types of layers you have, the shape of the outputs, and how many parameters are in each layer. "
   ]
  },
  {
   "cell_type": "code",
   "execution_count": 7,
   "metadata": {},
   "outputs": [
    {
     "name": "stdout",
     "output_type": "stream",
     "text": [
      "Model: \"sequential\"\n",
      "_________________________________________________________________\n",
      "Layer (type)                 Output Shape              Param #   \n",
      "=================================================================\n",
      "zero_padding2d (ZeroPadding2 (None, 70, 70, 3)         0         \n",
      "_________________________________________________________________\n",
      "conv2d (Conv2D)              (None, 64, 64, 32)        4736      \n",
      "_________________________________________________________________\n",
      "batch_normalization (BatchNo (None, 64, 64, 32)        128       \n",
      "_________________________________________________________________\n",
      "re_lu (ReLU)                 (None, 64, 64, 32)        0         \n",
      "_________________________________________________________________\n",
      "max_pooling2d (MaxPooling2D) (None, 32, 32, 32)        0         \n",
      "_________________________________________________________________\n",
      "flatten (Flatten)            (None, 32768)             0         \n",
      "_________________________________________________________________\n",
      "dense (Dense)                (None, 1)                 32769     \n",
      "=================================================================\n",
      "Total params: 37,633\n",
      "Trainable params: 37,569\n",
      "Non-trainable params: 64\n",
      "_________________________________________________________________\n"
     ]
    }
   ],
   "source": [
    "happy_model.summary()"
   ]
  },
  {
   "cell_type": "markdown",
   "metadata": {},
   "source": [
    "<a name='3-2'></a>\n",
    "### 3.2 - Train and Evaluate the Model\n",
    "\n",
    "After creating the model, compiling it with your choice of optimizer and loss function, and doing a sanity check on its contents, you are now ready to build! \n",
    "\n",
    "Simply call `.fit()` to train. That's it! No need for mini-batching, saving, or complex backpropagation computations. That's all been done for you, as you're using a TensorFlow dataset with the batches specified already. You do have the option to specify epoch number or minibatch size if you like (for example, in the case of an un-batched dataset)."
   ]
  },
  {
   "cell_type": "code",
   "execution_count": 8,
   "metadata": {},
   "outputs": [
    {
     "name": "stdout",
     "output_type": "stream",
     "text": [
      "Epoch 1/10\n",
      "38/38 [==============================] - 4s 103ms/step - loss: 0.7789 - accuracy: 0.7533\n",
      "Epoch 2/10\n",
      "38/38 [==============================] - 4s 97ms/step - loss: 0.1853 - accuracy: 0.9233\n",
      "Epoch 3/10\n",
      "38/38 [==============================] - 4s 97ms/step - loss: 0.1800 - accuracy: 0.9283\n",
      "Epoch 4/10\n",
      "38/38 [==============================] - 4s 97ms/step - loss: 0.0961 - accuracy: 0.9683\n",
      "Epoch 5/10\n",
      "38/38 [==============================] - 4s 95ms/step - loss: 0.1330 - accuracy: 0.9550\n",
      "Epoch 6/10\n",
      "38/38 [==============================] - 4s 97ms/step - loss: 0.1020 - accuracy: 0.9583\n",
      "Epoch 7/10\n",
      "38/38 [==============================] - 4s 100ms/step - loss: 0.3000 - accuracy: 0.9067\n",
      "Epoch 8/10\n",
      "38/38 [==============================] - 4s 98ms/step - loss: 0.0880 - accuracy: 0.9667\n",
      "Epoch 9/10\n",
      "38/38 [==============================] - 4s 100ms/step - loss: 0.0743 - accuracy: 0.9767\n",
      "Epoch 10/10\n",
      "38/38 [==============================] - 4s 97ms/step - loss: 0.0746 - accuracy: 0.9683\n"
     ]
    },
    {
     "data": {
      "text/plain": [
       "<tensorflow.python.keras.callbacks.History at 0x7f0e5a3ed090>"
      ]
     },
     "execution_count": 8,
     "metadata": {},
     "output_type": "execute_result"
    }
   ],
   "source": [
    "happy_model.fit(X_train, Y_train, epochs=10, batch_size=16)"
   ]
  },
  {
   "cell_type": "markdown",
   "metadata": {},
   "source": [
    "After that completes, just use `.evaluate()` to evaluate against your test set. This function will print the value of the loss function and the performance metrics specified during the compilation of the model. In this case, the `binary_crossentropy` and the `accuracy` respectively."
   ]
  },
  {
   "cell_type": "code",
   "execution_count": 9,
   "metadata": {},
   "outputs": [
    {
     "name": "stdout",
     "output_type": "stream",
     "text": [
      "5/5 [==============================] - 0s 28ms/step - loss: 0.2400 - accuracy: 0.8867\n"
     ]
    },
    {
     "data": {
      "text/plain": [
       "[0.24002711474895477, 0.8866666555404663]"
      ]
     },
     "execution_count": 9,
     "metadata": {},
     "output_type": "execute_result"
    }
   ],
   "source": [
    "happy_model.evaluate(X_test, Y_test)"
   ]
  },
  {
   "cell_type": "markdown",
   "metadata": {},
   "source": [
    "Easy, right? But what if you need to build a model with shared layers, branches, or multiple inputs and outputs? This is where Sequential, with its beautifully simple yet limited functionality, won't be able to help you. \n",
    "\n",
    "Next up: Enter the Functional API, your slightly more complex, highly flexible friend.  "
   ]
  },
  {
   "cell_type": "markdown",
   "metadata": {},
   "source": [
    "<a name='4'></a>\n",
    "## 4 - The Functional API"
   ]
  },
  {
   "cell_type": "markdown",
   "metadata": {},
   "source": [
    "Welcome to the second half of the assignment, where you'll use Keras' flexible [Functional API](https://www.tensorflow.org/guide/keras/functional) to build a ConvNet that can differentiate between 6 sign language digits. \n",
    "\n",
    "The Functional API can handle models with non-linear topology, shared layers, as well as layers with multiple inputs or outputs. Imagine that, where the Sequential API requires the model to move in a linear fashion through its layers, the Functional API allows much more flexibility. Where Sequential is a straight line, a Functional model is a graph, where the nodes of the layers can connect in many more ways than one. \n",
    "\n",
    "In the visual example below, the one possible direction of the movement Sequential model is shown in contrast to a skip connection, which is just one of the many ways a Functional model can be constructed. A skip connection, as you might have guessed, skips some layer in the network and feeds the output to a later layer in the network. Don't worry, you'll be spending more time with skip connections very soon! "
   ]
  },
  {
   "cell_type": "markdown",
   "metadata": {},
   "source": [
    "<img src=\"images/seq_vs_func.png\" style=\"width:350px;height:200px;\">"
   ]
  },
  {
   "cell_type": "markdown",
   "metadata": {},
   "source": [
    "<a name='4-1'></a>\n",
    "### 4.1 - Load the SIGNS Dataset\n",
    "\n",
    "As a reminder, the SIGNS dataset is a collection of 6 signs representing numbers from 0 to 5."
   ]
  },
  {
   "cell_type": "code",
   "execution_count": 10,
   "metadata": {},
   "outputs": [],
   "source": [
    "# Loading the data (signs)\n",
    "X_train_orig, Y_train_orig, X_test_orig, Y_test_orig, classes = load_signs_dataset()"
   ]
  },
  {
   "cell_type": "markdown",
   "metadata": {},
   "source": [
    "<img src=\"images/SIGNS.png\" style=\"width:800px;height:300px;\">\n",
    "\n",
    "The next cell will show you an example of a labelled image in the dataset. Feel free to change the value of `index` below and re-run to see different examples. "
   ]
  },
  {
   "cell_type": "code",
   "execution_count": 11,
   "metadata": {},
   "outputs": [
    {
     "name": "stdout",
     "output_type": "stream",
     "text": [
      "y = 4\n"
     ]
    },
    {
     "data": {
      "image/png": "[encoded data removed]",
      "text/plain": [
       "<Figure size 432x288 with 1 Axes>"
      ]
     },
     "metadata": {
      "needs_background": "light"
     },
     "output_type": "display_data"
    }
   ],
   "source": [
    "# Example of an image from the dataset\n",
    "index = 9\n",
    "plt.imshow(X_train_orig[index])\n",
    "print (\"y = \" + str(np.squeeze(Y_train_orig[:, index])))"
   ]
  },
  {
   "cell_type": "markdown",
   "metadata": {},
   "source": [
    "<a name='4-2'></a>\n",
    "### 4.2 - Split the Data into Train/Test Sets\n",
    "\n",
    "In Course 2, you built a fully-connected network for this dataset. But since this is an image dataset, it is more natural to apply a ConvNet to it.\n",
    "\n",
    "To get started, let's examine the shapes of your data. "
   ]
  },
  {
   "cell_type": "code",
   "execution_count": 12,
   "metadata": {},
   "outputs": [
    {
     "name": "stdout",
     "output_type": "stream",
     "text": [
      "number of training examples = 1080\n",
      "number of test examples = 120\n",
      "X_train shape: (1080, 64, 64, 3)\n",
      "Y_train shape: (1080, 6)\n",
      "X_test shape: (120, 64, 64, 3)\n",
      "Y_test shape: (120, 6)\n"
     ]
    }
   ],
   "source": [
    "X_train = X_train_orig/255.\n",
    "X_test = X_test_orig/255.\n",
    "Y_train = convert_to_one_hot(Y_train_orig, 6).T\n",
    "Y_test = convert_to_one_hot(Y_test_orig, 6).T\n",
    "print (\"number of training examples = \" + str(X_train.shape[0]))\n",
    "print (\"number of test examples = \" + str(X_test.shape[0]))\n",
    "print (\"X_train shape: \" + str(X_train.shape))\n",
    "print (\"Y_train shape: \" + str(Y_train.shape))\n",
    "print (\"X_test shape: \" + str(X_test.shape))\n",
    "print (\"Y_test shape: \" + str(Y_test.shape))"
   ]
  },
  {
   "cell_type": "markdown",
   "metadata": {},
   "source": [
    "<a name='4-3'></a>\n",
    "### 4.3 - Forward Propagation\n",
    "\n",
    "In TensorFlow, there are built-in functions that implement the convolution steps for you. By now, you should be familiar with how TensorFlow builds computational graphs. In the [Functional API](https://www.tensorflow.org/guide/keras/functional), you create a graph of layers. This is what allows such great flexibility.\n",
    "\n",
    "However, the following model could also be defined using the Sequential API since the information flow is on a single line. But don't deviate. What we want you to learn is to use the functional API.\n",
    "\n",
    "Begin building your graph of layers by creating an input node that functions as a callable object:\n",
    "\n",
    "- **input_img = tf.keras.Input(shape=input_shape):** \n",
    "\n",
    "Then, create a new node in the graph of layers by calling a layer on the `input_img` object: \n",
    "\n",
    "- **tf.keras.layers.Conv2D(filters= ... , kernel_size= ... , padding='same')(input_img):** Read the full documentation on [Conv2D](https://www.tensorflow.org/api_docs/python/tf/keras/layers/Conv2D).\n",
    "\n",
    "- **tf.keras.layers.MaxPool2D(pool_size=(f, f), strides=(s, s), padding='same'):** `MaxPool2D()` downsamples your input using a window of size (f, f) and strides of size (s, s) to carry out max pooling over each window.  For max pooling, you usually operate on a single example at a time and a single channel at a time. Read the full documentation on [MaxPool2D](https://www.tensorflow.org/api_docs/python/tf/keras/layers/MaxPool2D).\n",
    "\n",
    "- **tf.keras.layers.ReLU():** computes the elementwise ReLU of Z (which can be any shape). You can read the full documentation on [ReLU](https://www.tensorflow.org/api_docs/python/tf/keras/layers/ReLU).\n",
    "\n",
    "- **tf.keras.layers.Flatten()**: given a tensor \"P\", this function takes each training (or test) example in the batch and flattens it into a 1D vector.  \n",
    "\n",
    "    * If a tensor P has the shape (batch_size,h,w,c), it returns a flattened tensor with shape (batch_size, k), where $k=h \\times w \\times c$.  \"k\" equals the product of all the dimension sizes other than the first dimension.\n",
    "    \n",
    "    * For example, given a tensor with dimensions [100, 2, 3, 4], it flattens the tensor to be of shape [100, 24], where 24 = 2 * 3 * 4.  You can read the full documentation on [Flatten](https://www.tensorflow.org/api_docs/python/tf/keras/layers/Flatten).\n",
    "\n",
    "- **tf.keras.layers.Dense(units= ... , activation='softmax')(F):** given the flattened input F, it returns the output computed using a fully connected layer. You can read the full documentation on [Dense](https://www.tensorflow.org/api_docs/python/tf/keras/layers/Dense).\n",
    "\n",
    "In the last function above (`tf.keras.layers.Dense()`), the fully connected layer automatically initializes weights in the graph and keeps on training them as you train the model. Hence, you did not need to initialize those weights when initializing the parameters.\n",
    "\n",
    "Lastly, before creating the model, you'll need to define the output using the last of the function's compositions (in this example, a Dense layer): \n",
    "\n",
    "- **outputs = tf.keras.layers.Dense(units=6, activation='softmax')(F)**\n",
    "\n",
    "\n",
    "#### Window, kernel, filter, pool\n",
    "\n",
    "The words \"kernel\" and \"filter\" are used to refer to the same thing. The word \"filter\" accounts for the amount of \"kernels\" that will be used in a single convolution layer. \"Pool\" is the name of the operation that takes the max or average value of the kernels. \n",
    "\n",
    "This is why the parameter `pool_size` refers to `kernel_size`, and you use `(f,f)` to refer to the filter size. \n",
    "\n",
    "Pool size and kernel size refer to the same thing in different objects - They refer to the shape of the window where the operation takes place. "
   ]
  },
  {
   "cell_type": "markdown",
   "metadata": {},
   "source": [
    "<a name='ex-2'></a>\n",
    "### Exercise 2 - convolutional_model\n",
    "\n",
    "Implement the `convolutional_model` function below to build the following model: `CONV2D -> RELU -> MAXPOOL -> CONV2D -> RELU -> MAXPOOL -> FLATTEN -> DENSE`. Use the functions above! \n",
    "\n",
    "Also, plug in the following parameters for all the steps:\n",
    "\n",
    " - [Conv2D](https://www.tensorflow.org/api_docs/python/tf/keras/layers/Conv2D): Use 8 4 by 4 filters, stride 1, padding is \"SAME\"\n",
    " - [ReLU](https://www.tensorflow.org/api_docs/python/tf/keras/layers/ReLU)\n",
    " - [MaxPool2D](https://www.tensorflow.org/api_docs/python/tf/keras/layers/MaxPool2D): Use an 8 by 8 filter size and an 8 by 8 stride, padding is \"SAME\"\n",
    " - **Conv2D**: Use 16 2 by 2 filters, stride 1, padding is \"SAME\"\n",
    " - **ReLU**\n",
    " - **MaxPool2D**: Use a 4 by 4 filter size and a 4 by 4 stride, padding is \"SAME\"\n",
    " - [Flatten](https://www.tensorflow.org/api_docs/python/tf/keras/layers/Flatten) the previous output.\n",
    " - Fully-connected ([Dense](https://www.tensorflow.org/api_docs/python/tf/keras/layers/Dense)) layer: Apply a fully connected layer with 6 neurons and a softmax activation. "
   ]
  },
  {
   "cell_type": "code",
   "execution_count": 13,
   "metadata": {
    "deletable": false,
    "nbgrader": {
     "cell_type": "code",
     "checksum": "f58643806aa8380c96225fc8b4c5e7aa",
     "grade": false,
     "grade_id": "cell-dac51744a9e03f51",
     "locked": false,
     "schema_version": 3,
     "solution": true,
     "task": false
    }
   },
   "outputs": [],
   "source": [
    "# GRADED FUNCTION: convolutional_model\n",
    "\n",
    "def convolutional_model(input_shape):\n",
    "    \"\"\"\n",
    "    Implements the forward propagation for the model:\n",
    "    CONV2D -> RELU -> MAXPOOL -> CONV2D -> RELU -> MAXPOOL -> FLATTEN -> DENSE\n",
    "    \n",
    "    Note that for simplicity and grading purposes, you'll hard-code some values\n",
    "    such as the stride and kernel (filter) sizes. \n",
    "    Normally, functions should take these values as function parameters.\n",
    "    \n",
    "    Arguments:\n",
    "    input_img -- input dataset, of shape (input_shape)\n",
    "\n",
    "    Returns:\n",
    "    model -- TF Keras model (object containing the information for the entire training process) \n",
    "    \"\"\"\n",
    "\n",
    "    input_img = tf.keras.Input(shape=input_shape)\n",
    "    \n",
    "    # YOUR CODE STARTS HERE\n",
    "    ## CONV2D: 8 filters 4x4, stride of 1, padding 'SAME'\n",
    "    # Z1 = None\n",
    "    Z1 = tfl.Conv2D(8, 4, activation='linear', padding=\"same\", strides=1)(input_img)\n",
    "    \n",
    "    ## RELU\n",
    "    # A1 = None\n",
    "    A1 = tfl.ReLU()(Z1)\n",
    "    \n",
    "    ## MAXPOOL: window 8x8, stride 8, padding 'SAME'\n",
    "    # P1 = None\n",
    "    P1 = tfl.MaxPool2D(pool_size=(8, 8), strides=(8, 8), padding='same')(A1)\n",
    "    \n",
    "    ## CONV2D: 16 filters 2x2, stride 1, padding 'SAME'\n",
    "    # Z2 = None\n",
    "    Z2 = tfl.Conv2D(16, 2, activation='linear', padding=\"same\", strides=1)(P1)\n",
    "    \n",
    "    ## RELU\n",
    "    # A2 = None\n",
    "    A2 = tfl.ReLU()(Z2)\n",
    "    \n",
    "    ## MAXPOOL: window 4x4, stride 4, padding 'SAME'\n",
    "    # P2 = None\n",
    "    P2 = tfl.MaxPool2D(pool_size=(4, 4), strides=(4, 4), padding='same')(A2)\n",
    "    \n",
    "    ## FLATTEN\n",
    "    # F = None\n",
    "    F = tfl.Flatten()(P2)\n",
    "    \n",
    "    ## Dense layer\n",
    "    ## 6 neurons in output layer. Hint: one of the arguments should be \"activation='softmax'\" \n",
    "    # outputs = None\n",
    "    outputs = tfl.Dense(6, activation='softmax')(F)\n",
    "    \n",
    "    # YOUR CODE ENDS HERE\n",
    "    model = tf.keras.Model(inputs=input_img, outputs=outputs)\n",
    "    return model"
   ]
  },
  {
   "cell_type": "code",
   "execution_count": 14,
   "metadata": {
    "deletable": false,
    "editable": false,
    "nbgrader": {
     "cell_type": "code",
     "checksum": "483d626949930a0b0ef20997e7c6ba72",
     "grade": true,
     "grade_id": "cell-45d22e92042174c9",
     "locked": true,
     "points": 10,
     "schema_version": 3,
     "solution": false,
     "task": false
    }
   },
   "outputs": [
    {
     "name": "stdout",
     "output_type": "stream",
     "text": [
      "Model: \"functional_1\"\n",
      "_________________________________________________________________\n",
      "Layer (type)                 Output Shape              Param #   \n",
      "=================================================================\n",
      "input_1 (InputLayer)         [(None, 64, 64, 3)]       0         \n",
      "_________________________________________________________________\n",
      "conv2d_1 (Conv2D)            (None, 64, 64, 8)         392       \n",
      "_________________________________________________________________\n",
      "re_lu_1 (ReLU)               (None, 64, 64, 8)         0         \n",
      "_________________________________________________________________\n",
      "max_pooling2d_1 (MaxPooling2 (None, 8, 8, 8)           0         \n",
      "_________________________________________________________________\n",
      "conv2d_2 (Conv2D)            (None, 8, 8, 16)          528       \n",
      "_________________________________________________________________\n",
      "re_lu_2 (ReLU)               (None, 8, 8, 16)          0         \n",
      "_________________________________________________________________\n",
      "max_pooling2d_2 (MaxPooling2 (None, 2, 2, 16)          0         \n",
      "_________________________________________________________________\n",
      "flatten_1 (Flatten)          (None, 64)                0         \n",
      "_________________________________________________________________\n",
      "dense_1 (Dense)              (None, 6)                 390       \n",
      "=================================================================\n",
      "Total params: 1,310\n",
      "Trainable params: 1,310\n",
      "Non-trainable params: 0\n",
      "_________________________________________________________________\n",
      "\u001b[32mAll tests passed!\u001b[0m\n"
     ]
    }
   ],
   "source": [
    "conv_model = convolutional_model((64, 64, 3))\n",
    "conv_model.compile(optimizer='adam',\n",
    "                  loss='categorical_crossentropy',\n",
    "                  metrics=['accuracy'])\n",
    "conv_model.summary()\n",
    "    \n",
    "output = [['InputLayer', [(None, 64, 64, 3)], 0],\n",
    "        ['Conv2D', (None, 64, 64, 8), 392, 'same', 'linear', 'GlorotUniform'],\n",
    "        ['ReLU', (None, 64, 64, 8), 0],\n",
    "        ['MaxPooling2D', (None, 8, 8, 8), 0, (8, 8), (8, 8), 'same'],\n",
    "        ['Conv2D', (None, 8, 8, 16), 528, 'same', 'linear', 'GlorotUniform'],\n",
    "        ['ReLU', (None, 8, 8, 16), 0],\n",
    "        ['MaxPooling2D', (None, 2, 2, 16), 0, (4, 4), (4, 4), 'same'],\n",
    "        ['Flatten', (None, 64), 0],\n",
    "        ['Dense', (None, 6), 390, 'softmax']]\n",
    "    \n",
    "comparator(summary(conv_model), output)"
   ]
  },
  {
   "cell_type": "markdown",
   "metadata": {},
   "source": [
    "Both the Sequential and Functional APIs return a TF Keras model object. The only difference is how inputs are handled inside the object model! "
   ]
  },
  {
   "cell_type": "markdown",
   "metadata": {},
   "source": [
    "<a name='4-4'></a>\n",
    "### 4.4 - Train the Model"
   ]
  },
  {
   "cell_type": "code",
   "execution_count": 15,
   "metadata": {},
   "outputs": [
    {
     "name": "stdout",
     "output_type": "stream",
     "text": [
      "Epoch 1/100\n",
      "17/17 [==============================] - 2s 124ms/step - loss: 1.8119 - accuracy: 0.1667 - val_loss: 1.7918 - val_accuracy: 0.2333\n",
      "Epoch 2/100\n",
      "17/17 [==============================] - 2s 111ms/step - loss: 1.7899 - accuracy: 0.1991 - val_loss: 1.7863 - val_accuracy: 0.2833\n",
      "Epoch 3/100\n",
      "17/17 [==============================] - 2s 111ms/step - loss: 1.7864 - accuracy: 0.2537 - val_loss: 1.7839 - val_accuracy: 0.2417\n",
      "Epoch 4/100\n",
      "17/17 [==============================] - 2s 108ms/step - loss: 1.7837 - accuracy: 0.2472 - val_loss: 1.7803 - val_accuracy: 0.2583\n",
      "Epoch 5/100\n",
      "17/17 [==============================] - 2s 106ms/step - loss: 1.7809 - accuracy: 0.2694 - val_loss: 1.7770 - val_accuracy: 0.2667\n",
      "Epoch 6/100\n",
      "17/17 [==============================] - 2s 112ms/step - loss: 1.7776 - accuracy: 0.2824 - val_loss: 1.7737 - val_accuracy: 0.2750\n",
      "Epoch 7/100\n",
      "17/17 [==============================] - 2s 107ms/step - loss: 1.7736 - accuracy: 0.2954 - val_loss: 1.7692 - val_accuracy: 0.3000\n",
      "Epoch 8/100\n",
      "17/17 [==============================] - 2s 107ms/step - loss: 1.7694 - accuracy: 0.3148 - val_loss: 1.7632 - val_accuracy: 0.3667\n",
      "Epoch 9/100\n",
      "17/17 [==============================] - 2s 112ms/step - loss: 1.7634 - accuracy: 0.3463 - val_loss: 1.7565 - val_accuracy: 0.4167\n",
      "Epoch 10/100\n",
      "17/17 [==============================] - 2s 107ms/step - loss: 1.7562 - accuracy: 0.3648 - val_loss: 1.7488 - val_accuracy: 0.3667\n",
      "Epoch 11/100\n",
      "17/17 [==============================] - 2s 107ms/step - loss: 1.7479 - accuracy: 0.3796 - val_loss: 1.7398 - val_accuracy: 0.3833\n",
      "Epoch 12/100\n",
      "17/17 [==============================] - 2s 112ms/step - loss: 1.7388 - accuracy: 0.3731 - val_loss: 1.7279 - val_accuracy: 0.4083\n",
      "Epoch 13/100\n",
      "17/17 [==============================] - 2s 108ms/step - loss: 1.7267 - accuracy: 0.3880 - val_loss: 1.7138 - val_accuracy: 0.4250\n",
      "Epoch 14/100\n",
      "17/17 [==============================] - 2s 113ms/step - loss: 1.7122 - accuracy: 0.3944 - val_loss: 1.6970 - val_accuracy: 0.4250\n",
      "Epoch 15/100\n",
      "17/17 [==============================] - 2s 107ms/step - loss: 1.6932 - accuracy: 0.4065 - val_loss: 1.6770 - val_accuracy: 0.4500\n",
      "Epoch 16/100\n",
      "17/17 [==============================] - 2s 107ms/step - loss: 1.6716 - accuracy: 0.4231 - val_loss: 1.6526 - val_accuracy: 0.4417\n",
      "Epoch 17/100\n",
      "17/17 [==============================] - 2s 112ms/step - loss: 1.6453 - accuracy: 0.4296 - val_loss: 1.6239 - val_accuracy: 0.4500\n",
      "Epoch 18/100\n",
      "17/17 [==============================] - 2s 112ms/step - loss: 1.6135 - accuracy: 0.4454 - val_loss: 1.5908 - val_accuracy: 0.5000\n",
      "Epoch 19/100\n",
      "17/17 [==============================] - 2s 113ms/step - loss: 1.5778 - accuracy: 0.4556 - val_loss: 1.5548 - val_accuracy: 0.4667\n",
      "Epoch 20/100\n",
      "17/17 [==============================] - 2s 107ms/step - loss: 1.5383 - accuracy: 0.4741 - val_loss: 1.5159 - val_accuracy: 0.4750\n",
      "Epoch 21/100\n",
      "17/17 [==============================] - 2s 112ms/step - loss: 1.4961 - accuracy: 0.4981 - val_loss: 1.4771 - val_accuracy: 0.5000\n",
      "Epoch 22/100\n",
      "17/17 [==============================] - 2s 112ms/step - loss: 1.4555 - accuracy: 0.5148 - val_loss: 1.4383 - val_accuracy: 0.5167\n",
      "Epoch 23/100\n",
      "17/17 [==============================] - 2s 107ms/step - loss: 1.4118 - accuracy: 0.5306 - val_loss: 1.3999 - val_accuracy: 0.5167\n",
      "Epoch 24/100\n",
      "17/17 [==============================] - 2s 111ms/step - loss: 1.3697 - accuracy: 0.5435 - val_loss: 1.3627 - val_accuracy: 0.5500\n",
      "Epoch 25/100\n",
      "17/17 [==============================] - 2s 111ms/step - loss: 1.3269 - accuracy: 0.5639 - val_loss: 1.3279 - val_accuracy: 0.5500\n",
      "Epoch 26/100\n",
      "17/17 [==============================] - 2s 112ms/step - loss: 1.2864 - accuracy: 0.5833 - val_loss: 1.2930 - val_accuracy: 0.5583\n",
      "Epoch 27/100\n",
      "17/17 [==============================] - 2s 107ms/step - loss: 1.2469 - accuracy: 0.5917 - val_loss: 1.2600 - val_accuracy: 0.5667\n",
      "Epoch 28/100\n",
      "17/17 [==============================] - 2s 107ms/step - loss: 1.2092 - accuracy: 0.6046 - val_loss: 1.2286 - val_accuracy: 0.5500\n",
      "Epoch 29/100\n",
      "17/17 [==============================] - 2s 111ms/step - loss: 1.1749 - accuracy: 0.6148 - val_loss: 1.1990 - val_accuracy: 0.5667\n",
      "Epoch 30/100\n",
      "17/17 [==============================] - 2s 112ms/step - loss: 1.1411 - accuracy: 0.6306 - val_loss: 1.1705 - val_accuracy: 0.5750\n",
      "Epoch 31/100\n",
      "17/17 [==============================] - 2s 112ms/step - loss: 1.1075 - accuracy: 0.6426 - val_loss: 1.1444 - val_accuracy: 0.5750\n",
      "Epoch 32/100\n",
      "17/17 [==============================] - 2s 111ms/step - loss: 1.0764 - accuracy: 0.6546 - val_loss: 1.1199 - val_accuracy: 0.6000\n",
      "Epoch 33/100\n",
      "17/17 [==============================] - 2s 111ms/step - loss: 1.0478 - accuracy: 0.6630 - val_loss: 1.0978 - val_accuracy: 0.6167\n",
      "Epoch 34/100\n",
      "17/17 [==============================] - 2s 112ms/step - loss: 1.0211 - accuracy: 0.6759 - val_loss: 1.0771 - val_accuracy: 0.6083\n",
      "Epoch 35/100\n",
      "17/17 [==============================] - 2s 107ms/step - loss: 0.9963 - accuracy: 0.6833 - val_loss: 1.0578 - val_accuracy: 0.6083\n",
      "Epoch 36/100\n",
      "17/17 [==============================] - 2s 111ms/step - loss: 0.9730 - accuracy: 0.6926 - val_loss: 1.0403 - val_accuracy: 0.6167\n",
      "Epoch 37/100\n",
      "17/17 [==============================] - 2s 107ms/step - loss: 0.9506 - accuracy: 0.6981 - val_loss: 1.0231 - val_accuracy: 0.6250\n",
      "Epoch 38/100\n",
      "17/17 [==============================] - 2s 111ms/step - loss: 0.9298 - accuracy: 0.7000 - val_loss: 1.0064 - val_accuracy: 0.6417\n",
      "Epoch 39/100\n",
      "17/17 [==============================] - 2s 112ms/step - loss: 0.9103 - accuracy: 0.7056 - val_loss: 0.9916 - val_accuracy: 0.6333\n",
      "Epoch 40/100\n",
      "17/17 [==============================] - 2s 112ms/step - loss: 0.8916 - accuracy: 0.7120 - val_loss: 0.9778 - val_accuracy: 0.6333\n",
      "Epoch 41/100\n",
      "17/17 [==============================] - ETA: 0s - loss: 0.8742 - accuracy: 0.72 - 2s 112ms/step - loss: 0.8742 - accuracy: 0.7213 - val_loss: 0.9639 - val_accuracy: 0.6417\n",
      "Epoch 42/100\n",
      "17/17 [==============================] - 2s 113ms/step - loss: 0.8574 - accuracy: 0.7269 - val_loss: 0.9511 - val_accuracy: 0.6417\n",
      "Epoch 43/100\n",
      "17/17 [==============================] - 2s 112ms/step - loss: 0.8418 - accuracy: 0.7306 - val_loss: 0.9392 - val_accuracy: 0.6417\n",
      "Epoch 44/100\n",
      "17/17 [==============================] - 2s 112ms/step - loss: 0.8266 - accuracy: 0.7389 - val_loss: 0.9274 - val_accuracy: 0.6417\n",
      "Epoch 45/100\n",
      "17/17 [==============================] - 2s 106ms/step - loss: 0.8125 - accuracy: 0.7454 - val_loss: 0.9168 - val_accuracy: 0.6583\n",
      "Epoch 46/100\n",
      "17/17 [==============================] - 2s 107ms/step - loss: 0.7990 - accuracy: 0.7435 - val_loss: 0.9060 - val_accuracy: 0.6667\n",
      "Epoch 47/100\n",
      "17/17 [==============================] - 2s 106ms/step - loss: 0.7860 - accuracy: 0.7463 - val_loss: 0.8963 - val_accuracy: 0.6750\n",
      "Epoch 48/100\n",
      "17/17 [==============================] - 2s 111ms/step - loss: 0.7736 - accuracy: 0.7500 - val_loss: 0.8868 - val_accuracy: 0.6750\n",
      "Epoch 49/100\n",
      "17/17 [==============================] - 2s 106ms/step - loss: 0.7620 - accuracy: 0.7546 - val_loss: 0.8781 - val_accuracy: 0.6750\n",
      "Epoch 50/100\n",
      "17/17 [==============================] - 2s 107ms/step - loss: 0.7507 - accuracy: 0.7611 - val_loss: 0.8694 - val_accuracy: 0.6750\n",
      "Epoch 51/100\n",
      "17/17 [==============================] - 2s 107ms/step - loss: 0.7398 - accuracy: 0.7639 - val_loss: 0.8610 - val_accuracy: 0.7000\n",
      "Epoch 52/100\n",
      "17/17 [==============================] - 2s 111ms/step - loss: 0.7296 - accuracy: 0.7676 - val_loss: 0.8527 - val_accuracy: 0.7000\n",
      "Epoch 53/100\n",
      "17/17 [==============================] - ETA: 0s - loss: 0.7196 - accuracy: 0.76 - 2s 111ms/step - loss: 0.7196 - accuracy: 0.7685 - val_loss: 0.8454 - val_accuracy: 0.7000\n",
      "Epoch 54/100\n",
      "17/17 [==============================] - 2s 112ms/step - loss: 0.7100 - accuracy: 0.7731 - val_loss: 0.8381 - val_accuracy: 0.7000\n",
      "Epoch 55/100\n",
      "17/17 [==============================] - 2s 112ms/step - loss: 0.7009 - accuracy: 0.7778 - val_loss: 0.8315 - val_accuracy: 0.7000\n",
      "Epoch 56/100\n",
      "17/17 [==============================] - 2s 106ms/step - loss: 0.6921 - accuracy: 0.7778 - val_loss: 0.8245 - val_accuracy: 0.7000\n",
      "Epoch 57/100\n"
     ]
    },
    {
     "name": "stdout",
     "output_type": "stream",
     "text": [
      "17/17 [==============================] - 2s 112ms/step - loss: 0.6833 - accuracy: 0.7806 - val_loss: 0.8182 - val_accuracy: 0.7000\n",
      "Epoch 58/100\n",
      "17/17 [==============================] - 2s 112ms/step - loss: 0.6750 - accuracy: 0.7852 - val_loss: 0.8125 - val_accuracy: 0.7000\n",
      "Epoch 59/100\n",
      "17/17 [==============================] - 2s 107ms/step - loss: 0.6671 - accuracy: 0.7889 - val_loss: 0.8060 - val_accuracy: 0.7000\n",
      "Epoch 60/100\n",
      "17/17 [==============================] - 2s 106ms/step - loss: 0.6591 - accuracy: 0.7935 - val_loss: 0.8007 - val_accuracy: 0.7000\n",
      "Epoch 61/100\n",
      "17/17 [==============================] - 2s 107ms/step - loss: 0.6514 - accuracy: 0.7972 - val_loss: 0.7951 - val_accuracy: 0.7083\n",
      "Epoch 62/100\n",
      "17/17 [==============================] - 2s 107ms/step - loss: 0.6438 - accuracy: 0.7972 - val_loss: 0.7895 - val_accuracy: 0.7167\n",
      "Epoch 63/100\n",
      "17/17 [==============================] - 2s 106ms/step - loss: 0.6365 - accuracy: 0.7991 - val_loss: 0.7846 - val_accuracy: 0.7167\n",
      "Epoch 64/100\n",
      "17/17 [==============================] - 2s 107ms/step - loss: 0.6294 - accuracy: 0.8019 - val_loss: 0.7796 - val_accuracy: 0.7167\n",
      "Epoch 65/100\n",
      "17/17 [==============================] - 2s 106ms/step - loss: 0.6224 - accuracy: 0.8046 - val_loss: 0.7745 - val_accuracy: 0.7333\n",
      "Epoch 66/100\n",
      "17/17 [==============================] - 2s 107ms/step - loss: 0.6156 - accuracy: 0.8093 - val_loss: 0.7698 - val_accuracy: 0.7333\n",
      "Epoch 67/100\n",
      "17/17 [==============================] - 2s 112ms/step - loss: 0.6088 - accuracy: 0.8083 - val_loss: 0.7657 - val_accuracy: 0.7333\n",
      "Epoch 68/100\n",
      "17/17 [==============================] - 2s 107ms/step - loss: 0.6022 - accuracy: 0.8130 - val_loss: 0.7617 - val_accuracy: 0.7333\n",
      "Epoch 69/100\n",
      "17/17 [==============================] - 2s 112ms/step - loss: 0.5958 - accuracy: 0.8130 - val_loss: 0.7572 - val_accuracy: 0.7333\n",
      "Epoch 70/100\n",
      "17/17 [==============================] - 2s 107ms/step - loss: 0.5892 - accuracy: 0.8148 - val_loss: 0.7532 - val_accuracy: 0.7417\n",
      "Epoch 71/100\n",
      "17/17 [==============================] - 2s 112ms/step - loss: 0.5828 - accuracy: 0.8167 - val_loss: 0.7486 - val_accuracy: 0.7417\n",
      "Epoch 72/100\n",
      "17/17 [==============================] - 2s 106ms/step - loss: 0.5765 - accuracy: 0.8194 - val_loss: 0.7445 - val_accuracy: 0.7417\n",
      "Epoch 73/100\n",
      "17/17 [==============================] - 2s 107ms/step - loss: 0.5706 - accuracy: 0.8194 - val_loss: 0.7408 - val_accuracy: 0.7417\n",
      "Epoch 74/100\n",
      "17/17 [==============================] - 2s 107ms/step - loss: 0.5646 - accuracy: 0.8222 - val_loss: 0.7373 - val_accuracy: 0.7500\n",
      "Epoch 75/100\n",
      "17/17 [==============================] - 2s 107ms/step - loss: 0.5591 - accuracy: 0.8278 - val_loss: 0.7353 - val_accuracy: 0.7583\n",
      "Epoch 76/100\n",
      "17/17 [==============================] - 2s 112ms/step - loss: 0.5531 - accuracy: 0.8324 - val_loss: 0.7311 - val_accuracy: 0.7583\n",
      "Epoch 77/100\n",
      "17/17 [==============================] - 2s 111ms/step - loss: 0.5478 - accuracy: 0.8333 - val_loss: 0.7278 - val_accuracy: 0.7583\n",
      "Epoch 78/100\n",
      "17/17 [==============================] - 2s 111ms/step - loss: 0.5426 - accuracy: 0.8343 - val_loss: 0.7243 - val_accuracy: 0.7583\n",
      "Epoch 79/100\n",
      "17/17 [==============================] - 2s 112ms/step - loss: 0.5373 - accuracy: 0.8389 - val_loss: 0.7215 - val_accuracy: 0.7583\n",
      "Epoch 80/100\n",
      "17/17 [==============================] - 2s 112ms/step - loss: 0.5322 - accuracy: 0.8435 - val_loss: 0.7184 - val_accuracy: 0.7583\n",
      "Epoch 81/100\n",
      "17/17 [==============================] - 2s 111ms/step - loss: 0.5270 - accuracy: 0.8426 - val_loss: 0.7153 - val_accuracy: 0.7583\n",
      "Epoch 82/100\n",
      "17/17 [==============================] - 2s 112ms/step - loss: 0.5221 - accuracy: 0.8426 - val_loss: 0.7122 - val_accuracy: 0.7583\n",
      "Epoch 83/100\n",
      "17/17 [==============================] - 2s 107ms/step - loss: 0.5172 - accuracy: 0.8435 - val_loss: 0.7092 - val_accuracy: 0.7583\n",
      "Epoch 84/100\n",
      "17/17 [==============================] - 2s 112ms/step - loss: 0.5125 - accuracy: 0.8444 - val_loss: 0.7065 - val_accuracy: 0.7583\n",
      "Epoch 85/100\n",
      "17/17 [==============================] - 2s 112ms/step - loss: 0.5079 - accuracy: 0.8472 - val_loss: 0.7041 - val_accuracy: 0.7583\n",
      "Epoch 86/100\n",
      "17/17 [==============================] - 2s 111ms/step - loss: 0.5036 - accuracy: 0.8481 - val_loss: 0.7009 - val_accuracy: 0.7583\n",
      "Epoch 87/100\n",
      "17/17 [==============================] - 2s 107ms/step - loss: 0.4990 - accuracy: 0.8472 - val_loss: 0.6989 - val_accuracy: 0.7583\n",
      "Epoch 88/100\n",
      "17/17 [==============================] - 2s 107ms/step - loss: 0.4946 - accuracy: 0.8491 - val_loss: 0.6958 - val_accuracy: 0.7583\n",
      "Epoch 89/100\n",
      "17/17 [==============================] - 2s 106ms/step - loss: 0.4904 - accuracy: 0.8500 - val_loss: 0.6938 - val_accuracy: 0.7583\n",
      "Epoch 90/100\n",
      "17/17 [==============================] - 2s 112ms/step - loss: 0.4864 - accuracy: 0.8546 - val_loss: 0.6914 - val_accuracy: 0.7583\n",
      "Epoch 91/100\n",
      "17/17 [==============================] - 2s 112ms/step - loss: 0.4824 - accuracy: 0.8565 - val_loss: 0.6888 - val_accuracy: 0.7583\n",
      "Epoch 92/100\n",
      "17/17 [==============================] - 2s 112ms/step - loss: 0.4786 - accuracy: 0.8565 - val_loss: 0.6863 - val_accuracy: 0.7583\n",
      "Epoch 93/100\n",
      "17/17 [==============================] - 2s 107ms/step - loss: 0.4747 - accuracy: 0.8574 - val_loss: 0.6841 - val_accuracy: 0.7583\n",
      "Epoch 94/100\n",
      "17/17 [==============================] - 2s 111ms/step - loss: 0.4710 - accuracy: 0.8583 - val_loss: 0.6818 - val_accuracy: 0.7583\n",
      "Epoch 95/100\n",
      "17/17 [==============================] - 2s 112ms/step - loss: 0.4672 - accuracy: 0.8593 - val_loss: 0.6798 - val_accuracy: 0.7667\n",
      "Epoch 96/100\n",
      "17/17 [==============================] - 2s 107ms/step - loss: 0.4637 - accuracy: 0.8602 - val_loss: 0.6768 - val_accuracy: 0.7667\n",
      "Epoch 97/100\n",
      "17/17 [==============================] - 2s 112ms/step - loss: 0.4601 - accuracy: 0.8602 - val_loss: 0.6744 - val_accuracy: 0.7750\n",
      "Epoch 98/100\n",
      "17/17 [==============================] - 2s 111ms/step - loss: 0.4566 - accuracy: 0.8620 - val_loss: 0.6723 - val_accuracy: 0.7750\n",
      "Epoch 99/100\n",
      "17/17 [==============================] - 2s 107ms/step - loss: 0.4532 - accuracy: 0.8630 - val_loss: 0.6702 - val_accuracy: 0.7750\n",
      "Epoch 100/100\n",
      "17/17 [==============================] - 2s 111ms/step - loss: 0.4498 - accuracy: 0.8648 - val_loss: 0.6681 - val_accuracy: 0.7750\n"
     ]
    }
   ],
   "source": [
    "train_dataset = tf.data.Dataset.from_tensor_slices((X_train, Y_train)).batch(64)\n",
    "test_dataset = tf.data.Dataset.from_tensor_slices((X_test, Y_test)).batch(64)\n",
    "history = conv_model.fit(train_dataset, epochs=100, validation_data=test_dataset)"
   ]
  },
  {
   "cell_type": "markdown",
   "metadata": {},
   "source": [
    "<a name='5'></a>\n",
    "## 5 - History Object \n",
    "\n",
    "The history object is an output of the `.fit()` operation, and provides a record of all the loss and metric values in memory. It's stored as a dictionary that you can retrieve at `history.history`: "
   ]
  },
  {
   "cell_type": "code",
   "execution_count": 16,
   "metadata": {},
   "outputs": [
    {
     "data": {
      "text/plain": [
       "{'loss': [1.8118538856506348,\n",
       "  1.789918303489685,\n",
       "  1.7864032983779907,\n",
       "  1.783729910850525,\n",
       "  1.7808599472045898,\n",
       "  1.777550458908081,\n",
       "  1.7735878229141235,\n",
       "  1.7694263458251953,\n",
       "  1.763401985168457,\n",
       "  1.7561891078948975,\n",
       "  1.7479372024536133,\n",
       "  1.7388198375701904,\n",
       "  1.7266870737075806,\n",
       "  1.7121659517288208,\n",
       "  1.6932026147842407,\n",
       "  1.6715668439865112,\n",
       "  1.6452574729919434,\n",
       "  1.6134605407714844,\n",
       "  1.5777504444122314,\n",
       "  1.5383145809173584,\n",
       "  1.496133804321289,\n",
       "  1.4554680585861206,\n",
       "  1.4117536544799805,\n",
       "  1.369710922241211,\n",
       "  1.3268860578536987,\n",
       "  1.2863808870315552,\n",
       "  1.2469319105148315,\n",
       "  1.209243655204773,\n",
       "  1.1749486923217773,\n",
       "  1.14114511013031,\n",
       "  1.1074832677841187,\n",
       "  1.0764065980911255,\n",
       "  1.0477741956710815,\n",
       "  1.0210504531860352,\n",
       "  0.9963208436965942,\n",
       "  0.9729924201965332,\n",
       "  0.950607180595398,\n",
       "  0.9298198223114014,\n",
       "  0.9102546572685242,\n",
       "  0.891553521156311,\n",
       "  0.8741940855979919,\n",
       "  0.8573532700538635,\n",
       "  0.841790497303009,\n",
       "  0.8265988826751709,\n",
       "  0.8125215172767639,\n",
       "  0.7990216016769409,\n",
       "  0.7860383987426758,\n",
       "  0.7735905647277832,\n",
       "  0.7620168328285217,\n",
       "  0.7506913542747498,\n",
       "  0.7397537231445312,\n",
       "  0.729553759098053,\n",
       "  0.7195669412612915,\n",
       "  0.7100347280502319,\n",
       "  0.7009297609329224,\n",
       "  0.6920645833015442,\n",
       "  0.6833333373069763,\n",
       "  0.6750251054763794,\n",
       "  0.66707843542099,\n",
       "  0.659138560295105,\n",
       "  0.6513537764549255,\n",
       "  0.6438354253768921,\n",
       "  0.6364896297454834,\n",
       "  0.629435122013092,\n",
       "  0.6223892569541931,\n",
       "  0.6155812740325928,\n",
       "  0.6087698340415955,\n",
       "  0.6021783351898193,\n",
       "  0.5957757830619812,\n",
       "  0.5891861915588379,\n",
       "  0.5828325152397156,\n",
       "  0.5765341520309448,\n",
       "  0.5706151127815247,\n",
       "  0.5646247863769531,\n",
       "  0.5590605139732361,\n",
       "  0.553149938583374,\n",
       "  0.5478380918502808,\n",
       "  0.5426344275474548,\n",
       "  0.5373418927192688,\n",
       "  0.532179594039917,\n",
       "  0.5269545912742615,\n",
       "  0.5220760107040405,\n",
       "  0.5171917676925659,\n",
       "  0.5125436186790466,\n",
       "  0.5078725814819336,\n",
       "  0.5035751461982727,\n",
       "  0.4990388751029968,\n",
       "  0.4946078360080719,\n",
       "  0.4903923273086548,\n",
       "  0.4864382743835449,\n",
       "  0.48241695761680603,\n",
       "  0.47855088114738464,\n",
       "  0.4747140407562256,\n",
       "  0.4709562063217163,\n",
       "  0.46720048785209656,\n",
       "  0.4637403190135956,\n",
       "  0.4600919485092163,\n",
       "  0.45657166838645935,\n",
       "  0.4532249867916107,\n",
       "  0.4497694969177246],\n",
       " 'accuracy': [0.1666666716337204,\n",
       "  0.19907407462596893,\n",
       "  0.2537037134170532,\n",
       "  0.24722221493721008,\n",
       "  0.26944443583488464,\n",
       "  0.28240740299224854,\n",
       "  0.2953703701496124,\n",
       "  0.31481480598449707,\n",
       "  0.3462963104248047,\n",
       "  0.364814817905426,\n",
       "  0.37962964177131653,\n",
       "  0.3731481432914734,\n",
       "  0.3879629671573639,\n",
       "  0.39444443583488464,\n",
       "  0.40648147463798523,\n",
       "  0.42314815521240234,\n",
       "  0.4296296238899231,\n",
       "  0.4453703761100769,\n",
       "  0.4555555582046509,\n",
       "  0.4740740656852722,\n",
       "  0.4981481432914734,\n",
       "  0.5148147940635681,\n",
       "  0.5305555462837219,\n",
       "  0.5435185432434082,\n",
       "  0.5638889074325562,\n",
       "  0.5833333134651184,\n",
       "  0.5916666388511658,\n",
       "  0.604629635810852,\n",
       "  0.614814817905426,\n",
       "  0.6305555701255798,\n",
       "  0.6425926089286804,\n",
       "  0.654629647731781,\n",
       "  0.6629629731178284,\n",
       "  0.6759259104728699,\n",
       "  0.6833333373069763,\n",
       "  0.6925926208496094,\n",
       "  0.6981481313705444,\n",
       "  0.699999988079071,\n",
       "  0.7055555582046509,\n",
       "  0.7120370268821716,\n",
       "  0.7212963104248047,\n",
       "  0.7268518805503845,\n",
       "  0.730555534362793,\n",
       "  0.7388888597488403,\n",
       "  0.7453703880310059,\n",
       "  0.7435185313224792,\n",
       "  0.7462962865829468,\n",
       "  0.75,\n",
       "  0.7546296119689941,\n",
       "  0.7611111402511597,\n",
       "  0.7638888955116272,\n",
       "  0.7675926089286804,\n",
       "  0.7685185074806213,\n",
       "  0.7731481194496155,\n",
       "  0.7777777910232544,\n",
       "  0.7777777910232544,\n",
       "  0.7805555462837219,\n",
       "  0.7851851582527161,\n",
       "  0.7888888716697693,\n",
       "  0.7935185432434082,\n",
       "  0.7972221970558167,\n",
       "  0.7972221970558167,\n",
       "  0.7990740537643433,\n",
       "  0.8018518686294556,\n",
       "  0.8046296238899231,\n",
       "  0.8092592358589172,\n",
       "  0.8083333373069763,\n",
       "  0.8129629492759705,\n",
       "  0.8129629492759705,\n",
       "  0.8148148059844971,\n",
       "  0.8166666626930237,\n",
       "  0.8194444179534912,\n",
       "  0.8194444179534912,\n",
       "  0.8222222328186035,\n",
       "  0.8277778029441833,\n",
       "  0.8324074149131775,\n",
       "  0.8333333134651184,\n",
       "  0.8342592716217041,\n",
       "  0.8388888835906982,\n",
       "  0.8435184955596924,\n",
       "  0.8425925970077515,\n",
       "  0.8425925970077515,\n",
       "  0.8435184955596924,\n",
       "  0.8444444537162781,\n",
       "  0.8472222089767456,\n",
       "  0.8481481671333313,\n",
       "  0.8472222089767456,\n",
       "  0.8490740656852722,\n",
       "  0.8500000238418579,\n",
       "  0.854629635810852,\n",
       "  0.8564814925193787,\n",
       "  0.8564814925193787,\n",
       "  0.8574073910713196,\n",
       "  0.8583333492279053,\n",
       "  0.8592592477798462,\n",
       "  0.8601852059364319,\n",
       "  0.8601852059364319,\n",
       "  0.8620370626449585,\n",
       "  0.8629629611968994,\n",
       "  0.864814817905426],\n",
       " 'val_loss': [1.7918065786361694,\n",
       "  1.7863353490829468,\n",
       "  1.783936619758606,\n",
       "  1.78029203414917,\n",
       "  1.7770228385925293,\n",
       "  1.7736788988113403,\n",
       "  1.7691776752471924,\n",
       "  1.76324462890625,\n",
       "  1.7565428018569946,\n",
       "  1.7487894296646118,\n",
       "  1.7397944927215576,\n",
       "  1.7279144525527954,\n",
       "  1.713816523551941,\n",
       "  1.6970374584197998,\n",
       "  1.6769722700119019,\n",
       "  1.6526033878326416,\n",
       "  1.6239433288574219,\n",
       "  1.5907541513442993,\n",
       "  1.5547791719436646,\n",
       "  1.5158731937408447,\n",
       "  1.4770828485488892,\n",
       "  1.43830406665802,\n",
       "  1.3998758792877197,\n",
       "  1.3626774549484253,\n",
       "  1.3278517723083496,\n",
       "  1.2930434942245483,\n",
       "  1.260011076927185,\n",
       "  1.228613257408142,\n",
       "  1.1989580392837524,\n",
       "  1.1705210208892822,\n",
       "  1.1444107294082642,\n",
       "  1.1198647022247314,\n",
       "  1.0977767705917358,\n",
       "  1.0771270990371704,\n",
       "  1.0577646493911743,\n",
       "  1.040263295173645,\n",
       "  1.0231016874313354,\n",
       "  1.006417155265808,\n",
       "  0.9915761947631836,\n",
       "  0.9777911901473999,\n",
       "  0.9638800024986267,\n",
       "  0.9510572552680969,\n",
       "  0.9392257928848267,\n",
       "  0.9274272918701172,\n",
       "  0.9168136715888977,\n",
       "  0.9060247540473938,\n",
       "  0.8962620496749878,\n",
       "  0.8868479132652283,\n",
       "  0.8781177997589111,\n",
       "  0.8693541884422302,\n",
       "  0.861044704914093,\n",
       "  0.8527355790138245,\n",
       "  0.8454291820526123,\n",
       "  0.8380746841430664,\n",
       "  0.8314513564109802,\n",
       "  0.8245424628257751,\n",
       "  0.8181988596916199,\n",
       "  0.8125150799751282,\n",
       "  0.8060445189476013,\n",
       "  0.8006584048271179,\n",
       "  0.7950534820556641,\n",
       "  0.7895488739013672,\n",
       "  0.7845930457115173,\n",
       "  0.7796212434768677,\n",
       "  0.7745401859283447,\n",
       "  0.7697839140892029,\n",
       "  0.7656763195991516,\n",
       "  0.7616808414459229,\n",
       "  0.7571681141853333,\n",
       "  0.7532205581665039,\n",
       "  0.7486293911933899,\n",
       "  0.7445491552352905,\n",
       "  0.7407730221748352,\n",
       "  0.737313985824585,\n",
       "  0.7353482842445374,\n",
       "  0.7310789823532104,\n",
       "  0.7278041839599609,\n",
       "  0.7242595553398132,\n",
       "  0.7215346097946167,\n",
       "  0.7184374332427979,\n",
       "  0.7153242230415344,\n",
       "  0.7122185826301575,\n",
       "  0.7091939449310303,\n",
       "  0.7064988613128662,\n",
       "  0.7040507197380066,\n",
       "  0.7008742094039917,\n",
       "  0.6988654732704163,\n",
       "  0.69576096534729,\n",
       "  0.6937805414199829,\n",
       "  0.6913524866104126,\n",
       "  0.6887592077255249,\n",
       "  0.6863354444503784,\n",
       "  0.6841106414794922,\n",
       "  0.6818245649337769,\n",
       "  0.679791271686554,\n",
       "  0.6768043041229248,\n",
       "  0.6744309663772583,\n",
       "  0.6722750067710876,\n",
       "  0.6702372431755066,\n",
       "  0.6681188941001892],\n",
       " 'val_accuracy': [0.23333333432674408,\n",
       "  0.28333333134651184,\n",
       "  0.24166665971279144,\n",
       "  0.25833332538604736,\n",
       "  0.2666666805744171,\n",
       "  0.2750000059604645,\n",
       "  0.30000001192092896,\n",
       "  0.36666667461395264,\n",
       "  0.4166666567325592,\n",
       "  0.36666667461395264,\n",
       "  0.38333332538604736,\n",
       "  0.40833333134651184,\n",
       "  0.42500001192092896,\n",
       "  0.42500001192092896,\n",
       "  0.44999998807907104,\n",
       "  0.4416666626930237,\n",
       "  0.44999998807907104,\n",
       "  0.5,\n",
       "  0.46666666865348816,\n",
       "  0.4749999940395355,\n",
       "  0.5,\n",
       "  0.5166666507720947,\n",
       "  0.5166666507720947,\n",
       "  0.550000011920929,\n",
       "  0.550000011920929,\n",
       "  0.5583333373069763,\n",
       "  0.5666666626930237,\n",
       "  0.550000011920929,\n",
       "  0.5666666626930237,\n",
       "  0.574999988079071,\n",
       "  0.574999988079071,\n",
       "  0.6000000238418579,\n",
       "  0.6166666746139526,\n",
       "  0.6083333492279053,\n",
       "  0.6083333492279053,\n",
       "  0.6166666746139526,\n",
       "  0.625,\n",
       "  0.6416666507720947,\n",
       "  0.6333333253860474,\n",
       "  0.6333333253860474,\n",
       "  0.6416666507720947,\n",
       "  0.6416666507720947,\n",
       "  0.6416666507720947,\n",
       "  0.6416666507720947,\n",
       "  0.6583333611488342,\n",
       "  0.6666666865348816,\n",
       "  0.675000011920929,\n",
       "  0.675000011920929,\n",
       "  0.675000011920929,\n",
       "  0.675000011920929,\n",
       "  0.699999988079071,\n",
       "  0.699999988079071,\n",
       "  0.699999988079071,\n",
       "  0.699999988079071,\n",
       "  0.699999988079071,\n",
       "  0.699999988079071,\n",
       "  0.699999988079071,\n",
       "  0.699999988079071,\n",
       "  0.699999988079071,\n",
       "  0.699999988079071,\n",
       "  0.7083333134651184,\n",
       "  0.7166666388511658,\n",
       "  0.7166666388511658,\n",
       "  0.7166666388511658,\n",
       "  0.7333333492279053,\n",
       "  0.7333333492279053,\n",
       "  0.7333333492279053,\n",
       "  0.7333333492279053,\n",
       "  0.7333333492279053,\n",
       "  0.7416666746139526,\n",
       "  0.7416666746139526,\n",
       "  0.7416666746139526,\n",
       "  0.7416666746139526,\n",
       "  0.75,\n",
       "  0.7583333253860474,\n",
       "  0.7583333253860474,\n",
       "  0.7583333253860474,\n",
       "  0.7583333253860474,\n",
       "  0.7583333253860474,\n",
       "  0.7583333253860474,\n",
       "  0.7583333253860474,\n",
       "  0.7583333253860474,\n",
       "  0.7583333253860474,\n",
       "  0.7583333253860474,\n",
       "  0.7583333253860474,\n",
       "  0.7583333253860474,\n",
       "  0.7583333253860474,\n",
       "  0.7583333253860474,\n",
       "  0.7583333253860474,\n",
       "  0.7583333253860474,\n",
       "  0.7583333253860474,\n",
       "  0.7583333253860474,\n",
       "  0.7583333253860474,\n",
       "  0.7583333253860474,\n",
       "  0.7666666507720947,\n",
       "  0.7666666507720947,\n",
       "  0.7749999761581421,\n",
       "  0.7749999761581421,\n",
       "  0.7749999761581421,\n",
       "  0.7749999761581421]}"
      ]
     },
     "execution_count": 16,
     "metadata": {},
     "output_type": "execute_result"
    }
   ],
   "source": [
    "history.history"
   ]
  },
  {
   "cell_type": "markdown",
   "metadata": {},
   "source": [
    "Now visualize the loss over time using `history.history`: "
   ]
  },
  {
   "cell_type": "code",
   "execution_count": 17,
   "metadata": {},
   "outputs": [
    {
     "data": {
      "text/plain": [
       "[Text(0, 0.5, 'Accuracy'), Text(0.5, 0, 'Epoch')]"
      ]
     },
     "execution_count": 17,
     "metadata": {},
     "output_type": "execute_result"
    },
    {
     "data": {
      "image/png": "[encoded data removed]",
      "text/plain": [
       "<Figure size 864x576 with 1 Axes>"
      ]
     },
     "metadata": {
      "needs_background": "light"
     },
     "output_type": "display_data"
    },
    {
     "data": {
      "image/png": "[encoded data removed]",
      "text/plain": [
       "<Figure size 864x576 with 1 Axes>"
      ]
     },
     "metadata": {
      "needs_background": "light"
     },
     "output_type": "display_data"
    }
   ],
   "source": [
    "# The history.history[\"loss\"] entry is a dictionary with as many values as epochs that the\n",
    "# model was trained on. \n",
    "df_loss_acc = pd.DataFrame(history.history)\n",
    "df_loss= df_loss_acc[['loss','val_loss']]\n",
    "df_loss.rename(columns={'loss':'train','val_loss':'validation'},inplace=True)\n",
    "df_acc= df_loss_acc[['accuracy','val_accuracy']]\n",
    "df_acc.rename(columns={'accuracy':'train','val_accuracy':'validation'},inplace=True)\n",
    "df_loss.plot(title='Model loss',figsize=(12,8)).set(xlabel='Epoch',ylabel='Loss')\n",
    "df_acc.plot(title='Model Accuracy',figsize=(12,8)).set(xlabel='Epoch',ylabel='Accuracy')"
   ]
  },
  {
   "cell_type": "markdown",
   "metadata": {},
   "source": [
    "**Congratulations**! You've finished the assignment and built two models: One that recognizes  smiles, and another that recognizes SIGN language with almost 80% accuracy on the test set. In addition to that, you now also understand the applications of two Keras APIs: Sequential and Functional. Nicely done! \n",
    "\n",
    "By now, you know a bit about how the Functional API works and may have glimpsed the possibilities. In your next assignment, you'll really get a feel for its power when you get the opportunity to build a very deep ConvNet, using ResNets! "
   ]
  },
  {
   "cell_type": "markdown",
   "metadata": {},
   "source": [
    "<a name='6'></a>\n",
    "## 6 - Bibliography\n",
    "\n",
    "You're always encouraged to read the official documentation. To that end, you can find the docs for the Sequential and Functional APIs here: \n",
    "\n",
    "https://www.tensorflow.org/guide/keras/sequential_model\n",
    "\n",
    "https://www.tensorflow.org/guide/keras/functional"
   ]
  }
 ],
 "metadata": {
  "coursera": {
   "course_slug": "convolutional-neural-networks",
   "graded_item_id": "bwbJV",
   "launcher_item_id": "0TkXB"
  },
  "kernelspec": {
   "display_name": "Python 3",
   "language": "python",
   "name": "python3"
  },
  "language_info": {
   "codemirror_mode": {
    "name": "ipython",
    "version": 3
   },
   "file_extension": ".py",
   "mimetype": "text/x-python",
   "name": "python",
   "nbconvert_exporter": "python",
   "pygments_lexer": "ipython3",
   "version": "3.7.6"
  }
 },
 "nbformat": 4,
 "nbformat_minor": 2
}
